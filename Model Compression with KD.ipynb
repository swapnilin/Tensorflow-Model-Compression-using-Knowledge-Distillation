{
 "cells": [
  {
   "cell_type": "markdown",
   "id": "6141aacf",
   "metadata": {},
   "source": [
    "# Model Compression using Knowledge Distillation"
   ]
  },
  {
   "cell_type": "markdown",
   "id": "a40a9d19",
   "metadata": {},
   "source": [
    "Knowledge distillation in machine learning is a process where a smaller, simpler \"student\" model is trained to replicate the behavior of a larger, more complex \"teacher\" model. This technique is often used to create efficient models that can operate in environments with limited computational resources, such as mobile devices, while still benefiting from the knowledge captured by larger models.\n",
    "\n",
    "To demonstrate this concept, I'll will use TensorFlow to perform knowledge distillation. We'll use a default dataset, such as the MNIST dataset of handwritten digits.\n",
    "\n",
    "The notebook will include the following key components:\n",
    "\n",
    "1. **Introduction to Knowledge Distillation:** Brief explanation of the concept and its use cases.\n",
    "2. **Setting Up the Environment:** Importing necessary libraries and preparing the TensorFlow environment.\n",
    "3. **Loading and Preprocessing Data:** How to load the MNIST dataset and preprocess it for model training.\n",
    "4. **Building the Teacher Model:** Creating a larger, complex model that will act as the teacher.\n",
    "5. **Training the Teacher Model:** Training the teacher model on the MNIST dataset.\n",
    "6. **Building the Student Model:** Creating a smaller, simpler model that will act as the student.\n",
    "7. **Knowledge Distillation Process:** Implementing the knowledge distillation process, where the student model learns from the teacher model.\n",
    "8. **Evaluating the Models:** Comparing the performance of the teacher and student models.\n",
    "9. **Conclusion:** Summarizing what we've learned and potential applications."
   ]
  },
  {
   "cell_type": "code",
   "execution_count": 33,
   "id": "32baccfb",
   "metadata": {},
   "outputs": [],
   "source": [
    "# Import necessary Libraries\n",
    "import tensorflow as tf\n",
    "from tensorflow.keras.datasets import mnist\n",
    "from tensorflow.keras.models import Model\n",
    "from tensorflow.keras.layers import Input, Dense, Flatten, Dropout\n",
    "from tensorflow.keras.utils import to_categorical\n",
    "import matplotlib.pyplot as plt"
   ]
  },
  {
   "cell_type": "code",
   "execution_count": 2,
   "id": "f9038fcd",
   "metadata": {},
   "outputs": [
    {
     "name": "stdout",
     "output_type": "stream",
     "text": [
      "Downloading data from https://storage.googleapis.com/tensorflow/tf-keras-datasets/mnist.npz\n",
      "11490434/11490434 [==============================] - 1s 0us/step\n"
     ]
    }
   ],
   "source": [
    "#Loading and Preprocessing Data\n",
    "(train_images, train_labels), (test_images, test_labels) = mnist.load_data()\n",
    "train_images = train_images.astype('float32') / 255\n",
    "test_images = test_images.astype('float32') / 255\n",
    "train_labels = to_categorical(train_labels, 10)\n",
    "test_labels = to_categorical(test_labels, 10)"
   ]
  },
  {
   "cell_type": "code",
   "execution_count": 6,
   "id": "ea78d591",
   "metadata": {},
   "outputs": [
    {
     "data": {
      "image/png": "[encoded data removed]",
      "text/plain": [
       "<Figure size 640x480 with 1 Axes>"
      ]
     },
     "metadata": {},
     "output_type": "display_data"
    }
   ],
   "source": [
    "# train_images is your dataset. Let's view the first image\n",
    "image = train_images[0]\n",
    "\n",
    "# Use matplotlib to display the image\n",
    "plt.imshow(image, cmap='gray')\n",
    "plt.show()"
   ]
  },
  {
   "cell_type": "code",
   "execution_count": 7,
   "id": "7b4e6b95",
   "metadata": {},
   "outputs": [
    {
     "data": {
      "text/plain": [
       "array([0., 0., 0., 0., 0., 1., 0., 0., 0., 0.], dtype=float32)"
      ]
     },
     "execution_count": 7,
     "metadata": {},
     "output_type": "execute_result"
    }
   ],
   "source": [
    "# The image is labelled as 5\n",
    "train_labels[0]"
   ]
  },
  {
   "cell_type": "code",
   "execution_count": 8,
   "id": "919edfbe",
   "metadata": {},
   "outputs": [
    {
     "data": {
      "image/png": "[encoded data removed]",
      "text/plain": [
       "<Figure size 640x480 with 1 Axes>"
      ]
     },
     "metadata": {},
     "output_type": "display_data"
    }
   ],
   "source": [
    "# train_images is your dataset. Let's view the first image\n",
    "image = test_images[0]\n",
    "\n",
    "# Use matplotlib to display the image\n",
    "plt.imshow(image, cmap='gray')\n",
    "plt.show()"
   ]
  },
  {
   "cell_type": "code",
   "execution_count": 9,
   "id": "c69be5f0",
   "metadata": {},
   "outputs": [
    {
     "data": {
      "text/plain": [
       "array([0., 0., 0., 0., 0., 0., 0., 1., 0., 0.], dtype=float32)"
      ]
     },
     "execution_count": 9,
     "metadata": {},
     "output_type": "execute_result"
    }
   ],
   "source": [
    "# the image is labelled as 7\n",
    "test_labels[0]"
   ]
  },
  {
   "cell_type": "code",
   "execution_count": 10,
   "id": "0c20cfa8",
   "metadata": {},
   "outputs": [],
   "source": [
    "# Building the Teacher Model\n",
    "teacher_input = Input(shape=(28, 28))\n",
    "x = Flatten()(teacher_input)\n",
    "x = Dense(128, activation='relu')(x)\n",
    "x = Dropout(0.2)(x)\n",
    "teacher_output = Dense(10, activation='softmax')(x)\n",
    "teacher_model = Model(teacher_input, teacher_output)\n"
   ]
  },
  {
   "cell_type": "markdown",
   "id": "ae4f7d58",
   "metadata": {},
   "source": [
    "Here, a more complex model is defined to act as the teacher.\n",
    "\n",
    "This complex teacher model is a simple but effective neural network for image classification tasks. It starts with a flattening layer to convert 2D image data into a 1D array, followed by a dense layer to learn features, a dropout layer to reduce overfitting, and finally, an output layer to classify the images into one of the ten classes. \n",
    "\n",
    "Let's breakdown the architecture.\n",
    "\n",
    "1. The shape=(28, 28) argument specifies that each input image has a shape of 28x28 pixels. This layer doesn't process the data; it just defines the input shape.\n",
    "2. The Flatten layer transforms the 2D 28x28 pixel input images into a 1D array. This step is necessary because the next layer, a dense layer, requires a 1D input. So, the 28x28 image, which is 784 pixels in total, becomes a flat array of 784 elements.\n",
    "3. Dense Layer is a fully connected (Dense) layer with 128 neurons. Each neuron in this layer is connected to all 784 inputs. The activation='relu' argument means that the Rectified Linear Unit (ReLU) activation function is used. ReLU is a common activation function in neural networks, especially in hidden layers, because it helps the model learn non-linear relationships in the data.\n",
    "4. The Dropout layer randomly sets a fraction (20% in this case, as indicated by 0.2) of the input units to 0 at each update during training. This helps prevent overfitting by reducing the model's reliance on any specific set of neurons and promoting generalization.\n",
    "5. Output Layer is another fully connected (Dense) layer, but it serves as the output layer of the network. It has 10 neurons, corresponding to the 10 possible classes (digits 0-9) in the MNIST dataset. The softmax activation function is used to generate a probability distribution over the 10 classes, making it suitable for multi-class classification.\n",
    "6. `Model(teacher_input, teacher_output)`creates the actual model by specifying the input and output layers. In TensorFlow/Keras, this defines the flow of data from teacher_input to teacher_output, including all the layers in between."
   ]
  },
  {
   "cell_type": "markdown",
   "id": "bcfaa1f8",
   "metadata": {},
   "source": [
    "    "
   ]
  },
  {
   "cell_type": "markdown",
   "id": "0fc5ed75",
   "metadata": {},
   "source": [
    "### Training the Teacher Model"
   ]
  },
  {
   "cell_type": "code",
   "execution_count": 28,
   "id": "18d6518f",
   "metadata": {},
   "outputs": [
    {
     "name": "stdout",
     "output_type": "stream",
     "text": [
      "Epoch 1/3\n",
      "1688/1688 [==============================] - 8s 4ms/step - loss: 0.0433 - accuracy: 0.9851 - val_loss: 0.0619 - val_accuracy: 0.9832\n",
      "Epoch 2/3\n",
      "1688/1688 [==============================] - 6s 4ms/step - loss: 0.0397 - accuracy: 0.9871 - val_loss: 0.0721 - val_accuracy: 0.9810\n",
      "Epoch 3/3\n",
      "1688/1688 [==============================] - 6s 4ms/step - loss: 0.0371 - accuracy: 0.9870 - val_loss: 0.0729 - val_accuracy: 0.9822\n",
      "313/313 [==============================] - 1s 3ms/step - loss: 0.0785 - accuracy: 0.9807\n",
      "Initial Teacher Model Accuracy: 0.9807000160217285\n"
     ]
    }
   ],
   "source": [
    "#This code compiles and trains the teacher model.\n",
    "teacher_model.compile(optimizer='adam', loss='categorical_crossentropy', metrics=['accuracy'])\n",
    "teacher_model.fit(train_images, train_labels, epochs=3, batch_size=32, validation_split=0.1)\n",
    "\n",
    "# Evaluate the teacher model on the test dataset\n",
    "initial_teacher_loss, initial_teacher_accuracy = teacher_model.evaluate(test_images, test_labels)\n",
    "print(\"Initial Teacher Model Accuracy:\", initial_teacher_accuracy)"
   ]
  },
  {
   "cell_type": "markdown",
   "id": "1ffd0ae1",
   "metadata": {},
   "source": [
    "The complex teacher model gives us an **accuracy of 98%**"
   ]
  },
  {
   "cell_type": "markdown",
   "id": "1eea3a5f",
   "metadata": {},
   "source": [
    "    "
   ]
  },
  {
   "cell_type": "markdown",
   "id": "8704422c",
   "metadata": {},
   "source": [
    "### Building the Student Model"
   ]
  },
  {
   "cell_type": "markdown",
   "id": "80986301",
   "metadata": {},
   "source": [
    "First, let's build an evaluate a simple Student Model without distillation."
   ]
  },
  {
   "cell_type": "code",
   "execution_count": 23,
   "id": "8e0d353f",
   "metadata": {},
   "outputs": [],
   "source": [
    "# a simpler model is defined as the student\n",
    "student_input = Input(shape=(28, 28))\n",
    "y = Flatten()(student_input)\n",
    "y = Dense(32, activation='relu')(y)  # Smaller model than the teacher\n",
    "student_output = Dense(10, activation='softmax')(y)\n",
    "student_model = Model(student_input, student_output)\n"
   ]
  },
  {
   "cell_type": "code",
   "execution_count": 24,
   "id": "18648beb",
   "metadata": {},
   "outputs": [
    {
     "name": "stdout",
     "output_type": "stream",
     "text": [
      "Epoch 1/3\n",
      "1688/1688 [==============================] - 6s 3ms/step - loss: 0.3746 - accuracy: 0.8946 - val_loss: 0.1912 - val_accuracy: 0.9463\n",
      "Epoch 2/3\n",
      "1688/1688 [==============================] - 5s 3ms/step - loss: 0.2021 - accuracy: 0.9419 - val_loss: 0.1509 - val_accuracy: 0.9575\n",
      "Epoch 3/3\n",
      "1688/1688 [==============================] - 5s 3ms/step - loss: 0.1611 - accuracy: 0.9529 - val_loss: 0.1384 - val_accuracy: 0.9637\n",
      "313/313 [==============================] - 1s 2ms/step - loss: 0.1470 - accuracy: 0.9570\n",
      "Initial Student Model Accuracy: 0.9570000171661377\n"
     ]
    }
   ],
   "source": [
    "# Compile the student model\n",
    "student_model.compile(optimizer='adam', loss='categorical_crossentropy', metrics=['accuracy'])\n",
    "\n",
    "# Train the student model on the original labels (not the teacher's predictions)\n",
    "student_model.fit(train_images, train_labels, epochs=3, batch_size=32, validation_split=0.1)\n",
    "\n",
    "# Evaluate the student model on the test dataset\n",
    "initial_student_loss, initial_student_accuracy = student_model.evaluate(test_images, test_labels)\n",
    "print(\"Initial Student Model Accuracy:\", initial_student_accuracy)\n"
   ]
  },
  {
   "cell_type": "markdown",
   "id": "03d6ba0a",
   "metadata": {},
   "source": [
    "A simple student model gives us an **accuracy of 95.7%**"
   ]
  },
  {
   "cell_type": "markdown",
   "id": "de3ed4fb",
   "metadata": {},
   "source": [
    "    "
   ]
  },
  {
   "cell_type": "markdown",
   "id": "be0eac8a",
   "metadata": {},
   "source": [
    "Next, we perform **knowledge distillation.** This involves training the student model not on the original labels, but on the predictions (soft targets) made by the teacher model on the training data. This way, the student model learns to approximate the output of the teacher model."
   ]
  },
  {
   "cell_type": "code",
   "execution_count": 26,
   "id": "a6c51a25",
   "metadata": {},
   "outputs": [
    {
     "name": "stdout",
     "output_type": "stream",
     "text": [
      "1875/1875 [==============================] - 5s 2ms/step\n",
      "Epoch 1/3\n",
      "1688/1688 [==============================] - 5s 3ms/step - loss: 0.0993 - accuracy: 0.9748 - val_loss: 0.1012 - val_accuracy: 0.9738\n",
      "Epoch 2/3\n",
      "1688/1688 [==============================] - 5s 3ms/step - loss: 0.0922 - accuracy: 0.9768 - val_loss: 0.0918 - val_accuracy: 0.9773\n",
      "Epoch 3/3\n",
      "1688/1688 [==============================] - 6s 3ms/step - loss: 0.0871 - accuracy: 0.9786 - val_loss: 0.0912 - val_accuracy: 0.9777\n",
      "313/313 [==============================] - 1s 3ms/step - loss: 0.1175 - accuracy: 0.9661\n",
      "Final Student Model Accuracy: 0.9660999774932861\n"
     ]
    }
   ],
   "source": [
    "# Get teacher model's predictions (soft targets)\n",
    "teacher_predictions = teacher_model.predict(train_images)\n",
    "\n",
    "# Train the student model on these soft targets\n",
    "student_model.fit(train_images, teacher_predictions, epochs=3, batch_size=32, validation_split=0.1)\n",
    "\n",
    "# Evaluate the student model on the test dataset after distillation\n",
    "final_student_loss, final_student_accuracy = student_model.evaluate(test_images, test_labels)\n",
    "print(\"Final Student Model Accuracy:\", final_student_accuracy)"
   ]
  },
  {
   "cell_type": "markdown",
   "id": "a71c0f9d",
   "metadata": {},
   "source": [
    "A  student model gives us an **accuracy of 96.6%**"
   ]
  },
  {
   "cell_type": "markdown",
   "id": "6a464ce9",
   "metadata": {},
   "source": [
    "Note: The effectiveness of knowledge distillation can vary based on several factors, including the complexity of the teacher model, the architecture of the student model, and the nature of the dataset."
   ]
  },
  {
   "cell_type": "markdown",
   "id": "0b3b7334",
   "metadata": {},
   "source": [
    "### Result: With a simple student model with knowledge distillation we have an accuracy closer to the accuracy from a more complex teacher model."
   ]
  },
  {
   "cell_type": "markdown",
   "id": "13720fcb",
   "metadata": {},
   "source": [
    "So, how does using teacher model predictions over true lables while training the student model, make the student model better?\n",
    "\n",
    "**Soft Targets Provide More Information:** The teacher model's predictions, or \"soft targets,\" carry more information than hard labels (true labels). For instance, in a classification task, instead of just knowing the correct class (hard label), soft targets provide probabilities across all classes. This richer information can help the student model learn finer distinctions between classes. For example, if an image of a \"7\" slightly resembles a \"1\", the teacher's probabilities might be something like 90% for \"7\" and 10% for \"1\". This helps the student understand this nuance, which is lost in hard labels.\n",
    "\n",
    "If you look at the `teacher_predictions[0]`, they are probability numbers. For e.g."
   ]
  },
  {
   "cell_type": "code",
   "execution_count": 32,
   "id": "d8313c78",
   "metadata": {},
   "outputs": [
    {
     "data": {
      "text/plain": [
       "array([5.5558512e-18, 1.0781441e-11, 2.4353049e-11, 3.7190234e-04,\n",
       "       2.0432859e-23, 9.9962807e-01, 7.9194312e-21, 2.9984012e-12,\n",
       "       4.8518077e-15, 1.4713636e-09], dtype=float32)"
      ]
     },
     "execution_count": 32,
     "metadata": {},
     "output_type": "execute_result"
    }
   ],
   "source": [
    "# We know this image is of number 5\n",
    "teacher_predictions[0]"
   ]
  },
  {
   "cell_type": "markdown",
   "id": "bf7482af",
   "metadata": {},
   "source": [
    "Each number corresponds to the model's predicted probability that the sample belongs to one of the possible classes. In the context of the MNIST dataset, which involves digit classification, these classes are digits from 0 to 9.\n",
    "\n",
    "* 5.5558512e-18: The probability that the image is a \"0\"\n",
    "* 1.0781441e-11: The probability that the image is a \"1\"\n",
    "* 2.4353049e-11: The probability that the image is a \"2\"\n",
    "* 3.7190234e-04: The probability that the image is a \"3\"\n",
    "* 2.0432859e-23: The probability that the image is a \"4\"\n",
    "* 9.9962807e-01: The probability that the image is a \"5\"\n",
    "* 7.9194312e-21: The probability that the image is a \"6\"\n",
    "* 2.9984012e-12: The probability that the image is a \"7\"\n",
    "* 4.8518077e-15: The probability that the image is a \"8\"\n",
    "* 1.4713636e-09: The probability that the image is a \"9\"\n",
    "\n",
    "These probabilities are the result of the softmax function in the output layer of the neural network, which normalizes the output of the final layer into a probability distribution. The values are close to 0 for most classes, indicating low probability, and one value is significantly higher, suggesting the model is much more confident about that particular class.\n",
    "\n",
    "In this case, the highest probability (9.9962807e-01 or approximately 99.96%) is associated with the class 5. This means that, according to the teacher model, this image is almost certainly a 5.\n",
    "\n",
    "Knowledge distillation leverages these probabilities. Instead of using hard labels (0 or 1 for each class), the student model is trained to mimic this probability distribution, which can help it learn more nuanced features of the data."
   ]
  },
  {
   "cell_type": "markdown",
   "id": "2547b439",
   "metadata": {},
   "source": [
    "    "
   ]
  },
  {
   "cell_type": "code",
   "execution_count": null,
   "id": "72830868",
   "metadata": {},
   "outputs": [],
   "source": []
  }
 ],
 "metadata": {
  "kernelspec": {
   "display_name": "Python 3 (ipyflow)",
   "language": "python",
   "name": "ipyflow"
  },
  "language_info": {
   "codemirror_mode": {
    "name": "ipython",
    "version": 3
   },
   "file_extension": ".py",
   "mimetype": "text/x-python",
   "name": "python",
   "nbconvert_exporter": "python",
   "pygments_lexer": "ipython3",
   "version": "3.9.7"
  }
 },
 "nbformat": 4,
 "nbformat_minor": 5
}
